{
 "cells": [
  {
   "cell_type": "code",
   "execution_count": 1,
   "metadata": {},
   "outputs": [
    {
     "name": "stdout",
     "output_type": "stream",
     "text": [
      "Populating the interactive namespace from numpy and matplotlib\n"
     ]
    }
   ],
   "source": [
    "import numpy as np\n",
    "import pandas as pd\n",
    "# import geopandas as gpd\n",
    "import matplotlib.pyplot as plt \n",
    "import json\n",
    "%pylab inline \n",
    "import warnings\n",
    "warnings.filterwarnings('ignore')"
   ]
  },
  {
   "cell_type": "code",
   "execution_count": 2,
   "metadata": {},
   "outputs": [
    {
     "name": "stdout",
     "output_type": "stream",
     "text": [
      "ls: cannot access '../share/data/processed/': No such file or directory\n"
     ]
    }
   ],
   "source": [
    "!ls ../share/data/processed/"
   ]
  },
  {
   "cell_type": "code",
   "execution_count": 41,
   "metadata": {},
   "outputs": [],
   "source": [
    "# First week of 2019.\n",
    "DATE_START = pd.to_datetime('2018-12-31 00:00:00-05:00')\n",
    "# Last week of 2020.\n",
    "DATE_END = pd.to_datetime('2020-01-25 00:00:00-05:00')\n",
    "\n",
    "# First week of 2020.\n",
    "DATE_START_PLOT = pd.to_datetime('2019-12-30 00:00:00-05:00')\n",
    "# CUTOFF BEFORE DATA GAP\n",
    "DATE_END_PLOT = pd.to_datetime('2020-11-23 00:00:00-05:00')\n",
    "\n",
    "# Start of COVID-19 Pre-Pandemic Period\n",
    "DATE_START_PRE_COVID = pd.to_datetime('2019-03-18 00:00:00-05:00')\n",
    "DATE_END_PRE_COVID = pd.to_datetime('2019-11-25 00:00:00-05:00')\n",
    "\n",
    "# Start of COVID-19 Pre-Pandemic Period -/+ 1 week\n",
    "DATE_START_PRE_COVID_ROLLING = pd.to_datetime('2019-03-11 00:00:00-05:00')\n",
    "DATE_END_PRE_COVID_ROLLING = pd.to_datetime('2019-12-02 00:00:00-05:00')\n",
    "\n",
    "# Start of COVID-19 Pandemic Period\n",
    "DATE_START_COVID = pd.to_datetime('2020-03-16 00:00:00-05:00')\n",
    "DATE_END_COVID = pd.to_datetime('2020-11-23 00:00:00-05:00')\n",
    "\n",
    "# Start of COVID-19 Pandemic Period -/+ 1 week\n",
    "DATE_START_COVID_ROLLING = pd.to_datetime('2020-03-09 00:00:00-05:00')\n",
    "DATE_END_COVID_ROLLING = pd.to_datetime('2020-11-30 00:00:00-05:00')\n",
    "\n",
    "# First week of 2019 - 1 week.\n",
    "DATE_START_ROLLING = pd.to_datetime('2018-12-24 00:00:00-05:00')\n",
    "# Last week of 2020 + 1 week.\n",
    "DATE_END_ROLLING = pd.to_datetime('2021-02-01 00:00:00-05:00')"
   ]
  },
  {
   "cell_type": "code",
   "execution_count": 4,
   "metadata": {},
   "outputs": [],
   "source": [
    "# https://cran.r-project.org/web/packages/khroma/vignettes/tol.html + NYU\n",
    "COLORS = [\n",
    "    '#57068c', '#e0b6fc', '#825', '#173', '#dc7', '#4a9', '#c67', '#993', '#a49']\n",
    "LINE_STYLES = [\n",
    "    'solid',\n",
    "    'dashed',\n",
    "    (0, (1, 1)),\n",
    "    'dashdot',\n",
    "    'solid',\n",
    "    (0, (5, 1)),\n",
    "    (0, (3, 1, 1, 1, 1, 1)),\n",
    "    'dashed',\n",
    "    'dashdot',\n",
    "]"
   ]
  },
  {
   "cell_type": "code",
   "execution_count": 5,
   "metadata": {},
   "outputs": [],
   "source": [
    "FONT_SIZE_TICKS=13\n",
    "FONT_SIZE_AXIS=14\n",
    "FONT_SIZE_TITLE=16\n",
    "FONT_SIZE_LEGEND=14"
   ]
  },
  {
   "cell_type": "code",
   "execution_count": 6,
   "metadata": {},
   "outputs": [],
   "source": [
    "def peek(df):\n",
    "    display(df.iloc[0:3, :])\n",
    "    print(len(df))"
   ]
  },
  {
   "cell_type": "code",
   "execution_count": 7,
   "metadata": {},
   "outputs": [],
   "source": [
    "def repair_dates(df):\n",
    "    df['date_range_start'] = pd.to_datetime(df['date_range_start'], utc=True)\n",
    "    df['date_range_start'] = df['date_range_start'].dt.tz_convert('US/Eastern')"
   ]
  },
  {
   "cell_type": "code",
   "execution_count": 8,
   "metadata": {},
   "outputs": [
    {
     "data": {
      "text/html": [
       "<div>\n",
       "<style scoped>\n",
       "    .dataframe tbody tr th:only-of-type {\n",
       "        vertical-align: middle;\n",
       "    }\n",
       "\n",
       "    .dataframe tbody tr th {\n",
       "        vertical-align: top;\n",
       "    }\n",
       "\n",
       "    .dataframe thead th {\n",
       "        text-align: right;\n",
       "    }\n",
       "</style>\n",
       "<table border=\"1\" class=\"dataframe\">\n",
       "  <thead>\n",
       "    <tr style=\"text-align: right;\">\n",
       "      <th></th>\n",
       "      <th>Cluster</th>\n",
       "    </tr>\n",
       "    <tr>\n",
       "      <th>census_block_group</th>\n",
       "      <th></th>\n",
       "    </tr>\n",
       "  </thead>\n",
       "  <tbody>\n",
       "    <tr>\n",
       "      <th>360050001001</th>\n",
       "      <td>2</td>\n",
       "    </tr>\n",
       "    <tr>\n",
       "      <th>360050002001</th>\n",
       "      <td>2</td>\n",
       "    </tr>\n",
       "    <tr>\n",
       "      <th>360050002002</th>\n",
       "      <td>2</td>\n",
       "    </tr>\n",
       "    <tr>\n",
       "      <th>360050002003</th>\n",
       "      <td>3</td>\n",
       "    </tr>\n",
       "    <tr>\n",
       "      <th>360050004001</th>\n",
       "      <td>3</td>\n",
       "    </tr>\n",
       "  </tbody>\n",
       "</table>\n",
       "</div>"
      ],
      "text/plain": [
       "                    Cluster\n",
       "census_block_group         \n",
       "360050001001              2\n",
       "360050002001              2\n",
       "360050002002              2\n",
       "360050002003              3\n",
       "360050004001              3"
      ]
     },
     "execution_count": 8,
     "metadata": {},
     "output_type": "execute_result"
    }
   ],
   "source": [
    "cluster_attr = pd.read_csv('./data/cbg_attr_and_cluster_1021.csv')\n",
    "clusters = cluster_attr[['census_block_group', 'Cluster']].set_index('census_block_group')\n",
    "clusters.head()"
   ]
  },
  {
   "cell_type": "code",
   "execution_count": 9,
   "metadata": {},
   "outputs": [],
   "source": [
    "poi = pd.read_csv('./exports/poi_health_recategorized.csv')"
   ]
  },
  {
   "cell_type": "code",
   "execution_count": 10,
   "metadata": {},
   "outputs": [],
   "source": [
    "#poiHealth.category.unique()"
   ]
  },
  {
   "cell_type": "code",
   "execution_count": 11,
   "metadata": {},
   "outputs": [],
   "source": [
    "other_retail = [\n",
    "    'Beer, Wine, and Liquor Stores',\n",
    "    'Big Box Grocers',\n",
    "    #'Delis and Convenience Stores',\n",
    "    'Food Services',\n",
    "    'General Merchandise Stores',\n",
    "    'Specialty Food Stores',\n",
    "    'Tobacco Stores',\n",
    "]\n",
    "\n",
    "other_service = [\n",
    "    'Drinking Places',\n",
    "    'Snacks and Bakeries',\n",
    "]"
   ]
  },
  {
   "cell_type": "code",
   "execution_count": 12,
   "metadata": {},
   "outputs": [],
   "source": [
    "poi['combined_category'] = poi['category']\n",
    "poi.loc[poi['category'].isin(other_retail), 'combined_category'] = 'Other Food Retail'\n",
    "poi.loc[poi['category'].isin(other_service), 'combined_category'] = 'Other Food Service'"
   ]
  },
  {
   "cell_type": "code",
   "execution_count": 13,
   "metadata": {},
   "outputs": [
    {
     "data": {
      "text/plain": [
       "Index(['placekey', 'cbg', 'naics_code', 'category', 'sub_category',\n",
       "       'location_name', 'area_square_feet', 'latitude', 'longitude',\n",
       "       'combined_category'],\n",
       "      dtype='object')"
      ]
     },
     "execution_count": 13,
     "metadata": {},
     "output_type": "execute_result"
    }
   ],
   "source": [
    "poi.columns"
   ]
  },
  {
   "cell_type": "code",
   "execution_count": 14,
   "metadata": {},
   "outputs": [
    {
     "data": {
      "text/html": [
       "<div>\n",
       "<style scoped>\n",
       "    .dataframe tbody tr th:only-of-type {\n",
       "        vertical-align: middle;\n",
       "    }\n",
       "\n",
       "    .dataframe tbody tr th {\n",
       "        vertical-align: top;\n",
       "    }\n",
       "\n",
       "    .dataframe thead th {\n",
       "        text-align: right;\n",
       "    }\n",
       "</style>\n",
       "<table border=\"1\" class=\"dataframe\">\n",
       "  <thead>\n",
       "    <tr style=\"text-align: right;\">\n",
       "      <th></th>\n",
       "      <th>placekey</th>\n",
       "      <th>category</th>\n",
       "      <th>combined_category</th>\n",
       "      <th>cbg</th>\n",
       "    </tr>\n",
       "  </thead>\n",
       "  <tbody>\n",
       "    <tr>\n",
       "      <th>0</th>\n",
       "      <td>222-222@627-s94-nwk</td>\n",
       "      <td>Specialty Food Stores</td>\n",
       "      <td>Other Food Retail</td>\n",
       "      <td>360470395002</td>\n",
       "    </tr>\n",
       "    <tr>\n",
       "      <th>1</th>\n",
       "      <td>223-222@627-rw6-zfz</td>\n",
       "      <td>Supermarkets and Grocery Stores</td>\n",
       "      <td>Supermarkets and Grocery Stores</td>\n",
       "      <td>360050386008</td>\n",
       "    </tr>\n",
       "    <tr>\n",
       "      <th>2</th>\n",
       "      <td>223-222@627-rwq-vcq</td>\n",
       "      <td>Supermarkets and Grocery Stores</td>\n",
       "      <td>Supermarkets and Grocery Stores</td>\n",
       "      <td>360050117001</td>\n",
       "    </tr>\n",
       "    <tr>\n",
       "      <th>3</th>\n",
       "      <td>223-222@627-sb5-8jv</td>\n",
       "      <td>Supermarkets and Grocery Stores</td>\n",
       "      <td>Supermarkets and Grocery Stores</td>\n",
       "      <td>360810107011</td>\n",
       "    </tr>\n",
       "    <tr>\n",
       "      <th>4</th>\n",
       "      <td>223-222@627-tkd-fvf</td>\n",
       "      <td>Supermarkets and Grocery Stores</td>\n",
       "      <td>Supermarkets and Grocery Stores</td>\n",
       "      <td>360811032021</td>\n",
       "    </tr>\n",
       "  </tbody>\n",
       "</table>\n",
       "</div>"
      ],
      "text/plain": [
       "              placekey                         category  \\\n",
       "0  222-222@627-s94-nwk            Specialty Food Stores   \n",
       "1  223-222@627-rw6-zfz  Supermarkets and Grocery Stores   \n",
       "2  223-222@627-rwq-vcq  Supermarkets and Grocery Stores   \n",
       "3  223-222@627-sb5-8jv  Supermarkets and Grocery Stores   \n",
       "4  223-222@627-tkd-fvf  Supermarkets and Grocery Stores   \n",
       "\n",
       "                 combined_category           cbg  \n",
       "0                Other Food Retail  360470395002  \n",
       "1  Supermarkets and Grocery Stores  360050386008  \n",
       "2  Supermarkets and Grocery Stores  360050117001  \n",
       "3  Supermarkets and Grocery Stores  360810107011  \n",
       "4  Supermarkets and Grocery Stores  360811032021  "
      ]
     },
     "execution_count": 14,
     "metadata": {},
     "output_type": "execute_result"
    }
   ],
   "source": [
    "categories = poi[['placekey', 'category', 'combined_category', 'cbg']]\n",
    "categories.head()"
   ]
  },
  {
   "cell_type": "code",
   "execution_count": 15,
   "metadata": {},
   "outputs": [
    {
     "data": {
      "text/html": [
       "<div>\n",
       "<style scoped>\n",
       "    .dataframe tbody tr th:only-of-type {\n",
       "        vertical-align: middle;\n",
       "    }\n",
       "\n",
       "    .dataframe tbody tr th {\n",
       "        vertical-align: top;\n",
       "    }\n",
       "\n",
       "    .dataframe thead th {\n",
       "        text-align: right;\n",
       "    }\n",
       "</style>\n",
       "<table border=\"1\" class=\"dataframe\">\n",
       "  <thead>\n",
       "    <tr style=\"text-align: right;\">\n",
       "      <th></th>\n",
       "      <th>placekey</th>\n",
       "      <th>date_range_start</th>\n",
       "      <th>home_cbg</th>\n",
       "      <th>visitor_count</th>\n",
       "      <th>estimated_visitor_count</th>\n",
       "      <th>pct_visitor_count</th>\n",
       "      <th>pct_estimated_visitor_count</th>\n",
       "      <th>cdi</th>\n",
       "      <th>category</th>\n",
       "      <th>combined_category</th>\n",
       "      <th>cbg</th>\n",
       "      <th>Cluster</th>\n",
       "    </tr>\n",
       "  </thead>\n",
       "  <tbody>\n",
       "    <tr>\n",
       "      <th>0</th>\n",
       "      <td>236-222@627-s7z-b6k</td>\n",
       "      <td>2018-12-31 00:00:00-05:00</td>\n",
       "      <td>360050001001</td>\n",
       "      <td>4</td>\n",
       "      <td>264.0</td>\n",
       "      <td>0.25</td>\n",
       "      <td>0.25</td>\n",
       "      <td>20.076046</td>\n",
       "      <td>Full-Service Restaurants</td>\n",
       "      <td>Full-Service Restaurants</td>\n",
       "      <td>360471194001</td>\n",
       "      <td>2</td>\n",
       "    </tr>\n",
       "    <tr>\n",
       "      <th>1</th>\n",
       "      <td>223-222@627-wg7-7h5</td>\n",
       "      <td>2018-12-31 00:00:00-05:00</td>\n",
       "      <td>360050001001</td>\n",
       "      <td>4</td>\n",
       "      <td>264.0</td>\n",
       "      <td>0.25</td>\n",
       "      <td>0.25</td>\n",
       "      <td>25.872502</td>\n",
       "      <td>Fast Food Restaurants</td>\n",
       "      <td>Fast Food Restaurants</td>\n",
       "      <td>360470930002</td>\n",
       "      <td>2</td>\n",
       "    </tr>\n",
       "    <tr>\n",
       "      <th>2</th>\n",
       "      <td>22v-222@627-wg4-t5f</td>\n",
       "      <td>2018-12-31 00:00:00-05:00</td>\n",
       "      <td>360050001001</td>\n",
       "      <td>4</td>\n",
       "      <td>264.0</td>\n",
       "      <td>0.25</td>\n",
       "      <td>0.25</td>\n",
       "      <td>22.579698</td>\n",
       "      <td>Full-Service Restaurants</td>\n",
       "      <td>Full-Service Restaurants</td>\n",
       "      <td>360470828002</td>\n",
       "      <td>2</td>\n",
       "    </tr>\n",
       "  </tbody>\n",
       "</table>\n",
       "</div>"
      ],
      "text/plain": [
       "              placekey           date_range_start      home_cbg  \\\n",
       "0  236-222@627-s7z-b6k  2018-12-31 00:00:00-05:00  360050001001   \n",
       "1  223-222@627-wg7-7h5  2018-12-31 00:00:00-05:00  360050001001   \n",
       "2  22v-222@627-wg4-t5f  2018-12-31 00:00:00-05:00  360050001001   \n",
       "\n",
       "   visitor_count  estimated_visitor_count  pct_visitor_count  \\\n",
       "0              4                    264.0               0.25   \n",
       "1              4                    264.0               0.25   \n",
       "2              4                    264.0               0.25   \n",
       "\n",
       "   pct_estimated_visitor_count        cdi                  category  \\\n",
       "0                         0.25  20.076046  Full-Service Restaurants   \n",
       "1                         0.25  25.872502     Fast Food Restaurants   \n",
       "2                         0.25  22.579698  Full-Service Restaurants   \n",
       "\n",
       "          combined_category           cbg  Cluster  \n",
       "0  Full-Service Restaurants  360471194001        2  \n",
       "1     Fast Food Restaurants  360470930002        2  \n",
       "2  Full-Service Restaurants  360470828002        2  "
      ]
     },
     "execution_count": 15,
     "metadata": {},
     "output_type": "execute_result"
    }
   ],
   "source": [
    "trips = pd.read_csv('./exports/home_weekly.csv')\n",
    "trips = trips.merge(categories, on='placekey')\n",
    "trips = trips.merge(clusters, left_on='home_cbg', right_on='census_block_group')\n",
    "trips.head(3)"
   ]
  },
  {
   "cell_type": "code",
   "execution_count": 16,
   "metadata": {},
   "outputs": [],
   "source": [
    "repair_dates(trips)\n",
    "trips['date'] = trips.date_range_start.dt.date\n",
    "trips['year'] = trips.date_range_start.dt.year\n",
    "trips['month'] = trips.date_range_start.dt.month"
   ]
  },
  {
   "cell_type": "code",
   "execution_count": 17,
   "metadata": {},
   "outputs": [
    {
     "data": {
      "text/plain": [
       "Timestamp('2021-02-15 00:00:00-0500', tz='US/Eastern')"
      ]
     },
     "execution_count": 17,
     "metadata": {},
     "output_type": "execute_result"
    }
   ],
   "source": [
    "max(trips.date_range_start)"
   ]
  },
  {
   "cell_type": "code",
   "execution_count": 18,
   "metadata": {},
   "outputs": [],
   "source": [
    "# set the figure and font size\n",
    "#import seaborn as sns \n",
    "import matplotlib.ticker as mtick\n",
    "#sns.set(rc={\"font.size\":18, \"axes.titlesize\":18, \"axes.labelsize\":16}) # 'figure.figsize':(20, 8), \n",
    "#sns.reset_orig()"
   ]
  },
  {
   "cell_type": "markdown",
   "metadata": {},
   "source": [
    "### POI Count per Capita by category"
   ]
  },
  {
   "cell_type": "code",
   "execution_count": 19,
   "metadata": {},
   "outputs": [],
   "source": [
    "# home POI Count"
   ]
  },
  {
   "cell_type": "code",
   "execution_count": 20,
   "metadata": {},
   "outputs": [],
   "source": [
    "def get_count_and_pct_df(df, pop, column_label):\n",
    "    \n",
    "    Count = df[['placekey', column_label, 'Cluster']].groupby(['Cluster', column_label]).count()\n",
    "    Count = pd.pivot_table(Count, values='placekey', index=['Cluster'], columns=[column_label])\n",
    "    for i in Count.columns:\n",
    "        Count[i] = Count[i] / pop['Total Population'] * 1000 # per 1000 capita\n",
    "    \n",
    "    Pct = Count.copy()\n",
    "    for i in Pct.columns:\n",
    "        Pct[i] = Pct[i]/Count.sum(axis=1)\n",
    "    \n",
    "    return Count, Pct"
   ]
  },
  {
   "cell_type": "code",
   "execution_count": 21,
   "metadata": {},
   "outputs": [],
   "source": [
    "#homepoi = categories.merge(clusters, left_on='cbg', right_on='census_block_group')\n",
    "#clPop = cluster_attr[['Cluster', 'Total Population']].groupby('Cluster').sum()\n",
    "#poiCount, poiPct = get_count_and_pct_df(homepoi, clPop, 'combined_category')"
   ]
  },
  {
   "cell_type": "code",
   "execution_count": 22,
   "metadata": {},
   "outputs": [],
   "source": [
    "def poi_plots(count_df, pct_df, which_type):\n",
    "    \n",
    "    fig, ax = plt.subplots(1,2,figsize=(18,5))\n",
    "\n",
    "    cmap = plt.cm.get_cmap('tab20')\n",
    "    colors = [cmap(i / 20) for i in range(0, 20)]\n",
    "\n",
    "    count_df.plot.bar(color=colors, ax=ax[0])\n",
    "    ax[0].set(xlabel='Clusters', ylabel='Number per 1000 Capita', title='%s POI Count per 1000 Capita' % which_type, xticks=count_df.index)\n",
    "    ax[0].tick_params(axis='x', rotation=0, size=18)\n",
    "    ax[0].get_legend().remove()\n",
    "\n",
    "    for i in range(pct_df.shape[1]):\n",
    "        if i == 0:\n",
    "            ax[1].bar(pct_df.index, pct_df.iloc[:, i], width=0.75, color=colors[i], label=pct_df.columns[i], alpha=0.8)\n",
    "        else:\n",
    "            ax[1].bar(pct_df.index, pct_df.iloc[:, i], bottom=np.sum(pct_df.iloc[:, :i], axis=1), \n",
    "                      width=0.75, color=colors[i], label=pct_df.columns[i], alpha=0.8)\n",
    "    ax[1].set(xlabel='Clusters', ylabel='Percentage', title='%s POI Category Composition' % which_type, xticks=pct_df.index)\n",
    "    ax[1].legend(bbox_to_anchor=(0.45, -0.25, 0.1, 0.1), ncol=4, loc='lower center', \n",
    "                  bbox_transform=fig.transFigure, fontsize=15)\n",
    "    ax[1].yaxis.set_major_formatter(mtick.PercentFormatter(1.0))"
   ]
  },
  {
   "cell_type": "code",
   "execution_count": 23,
   "metadata": {},
   "outputs": [],
   "source": [
    "#poi_plots(poiCount, poiPct, 'Home')"
   ]
  },
  {
   "cell_type": "code",
   "execution_count": 24,
   "metadata": {},
   "outputs": [],
   "source": [
    "#poiCount.sum(axis=1)"
   ]
  },
  {
   "cell_type": "code",
   "execution_count": 25,
   "metadata": {},
   "outputs": [],
   "source": [
    "#plt.figure(figsize=(8, 4))\n",
    "#sns.boxplot(data=poiCount)\n",
    "#plt.xticks(fontsize=12, rotation=90)\n",
    "#plt.title('Home POI Count')\n",
    "## plt.ylabel()\n",
    "#plt.xlabel(None)"
   ]
  },
  {
   "cell_type": "code",
   "execution_count": 26,
   "metadata": {},
   "outputs": [],
   "source": [
    "# Visited POI count by category"
   ]
  },
  {
   "cell_type": "code",
   "execution_count": 27,
   "metadata": {},
   "outputs": [],
   "source": [
    "#vstCount, vstPct = get_count_and_pct_df(trips, 'combined_category')"
   ]
  },
  {
   "cell_type": "code",
   "execution_count": 28,
   "metadata": {},
   "outputs": [],
   "source": [
    "#poi_plots(vstCount, vstPct, 'Visited')"
   ]
  },
  {
   "cell_type": "code",
   "execution_count": 29,
   "metadata": {},
   "outputs": [],
   "source": [
    "# 2019 V.S. 2020 Visited (Mar - Nov) -- number decreased"
   ]
  },
  {
   "cell_type": "code",
   "execution_count": 30,
   "metadata": {},
   "outputs": [],
   "source": [
    "trip2019 = trips[(trips['date_range_start'] >= DATE_START_PRE_COVID_ROLLING) & (trips['date_range_start'] <= DATE_END_PRE_COVID_ROLLING)]\n",
    "trip2020 = trips[(trips['date_range_start'] >= DATE_START_COVID_ROLLING) & (trips['date_range_start'] <= DATE_END_COVID_ROLLING)]"
   ]
  },
  {
   "cell_type": "code",
   "execution_count": 31,
   "metadata": {},
   "outputs": [],
   "source": [
    "#vstCount19, vstPct19 = get_count_and_pct_df(trip2019, 'combined_category')\n",
    "#vstCount20, vstPct20 = get_count_and_pct_df(trip2020, 'combined_category')"
   ]
  },
  {
   "cell_type": "code",
   "execution_count": 32,
   "metadata": {},
   "outputs": [],
   "source": [
    "#changeCount = vstCount20-vstCount19\n",
    "#changePct = (vstCount20-vstCount19)/vstCount19"
   ]
  },
  {
   "cell_type": "code",
   "execution_count": 33,
   "metadata": {},
   "outputs": [],
   "source": [
    "#fig, ax = plt.subplots(1,2,figsize=(20,5))\n",
    "#\n",
    "#changeCount.T.plot.bar(cmap='tab20c', ax=ax[0])\n",
    "#ax[0].set(xlabel=None, ylabel='Number', title='Changes of Visited POI Count')\n",
    "#ax[0].tick_params(axis='x', labelsize=15)\n",
    "#\n",
    "#sns.boxplot(data=changePct, ax=ax[1])\n",
    "#ax[1].set(xlabel=None, ylabel='Percentage', title='Percent Changes of Visited POI Count')\n",
    "#ax[1].tick_params(axis='x', labelsize=15, rotation=90)"
   ]
  },
  {
   "cell_type": "markdown",
   "metadata": {},
   "source": [
    "### Estimated visitor count by category"
   ]
  },
  {
   "cell_type": "code",
   "execution_count": 34,
   "metadata": {},
   "outputs": [],
   "source": [
    "def get_evc_pct_pivot_table(df, value_name, column_label):\n",
    "\n",
    "    evc = df[['Cluster', column_label, value_name]].groupby(['Cluster', column_label], as_index=False).median()\n",
    "    evc = pd.pivot_table(evc, values=value_name, index=['Cluster'], columns=[column_label])\n",
    "    \n",
    "    evcPct = evc.copy()\n",
    "    for i in evcPct.columns:\n",
    "        evcPct[i] = evcPct[i]/evc.sum(axis=1)\n",
    "\n",
    "    return evc, evcPct"
   ]
  },
  {
   "cell_type": "code",
   "execution_count": 35,
   "metadata": {},
   "outputs": [],
   "source": [
    "#evc19, evcPct19 = get_evc_pct_pivot_table(trip2019, 'estimated_visitor_count', 'combined_category')\n",
    "#evc20, evcPct20 = get_evc_pct_pivot_table(trip2020, 'estimated_visitor_count', 'combined_category')"
   ]
  },
  {
   "cell_type": "code",
   "execution_count": 36,
   "metadata": {},
   "outputs": [],
   "source": [
    "#evcChg = evcPct20 - evcPct19\n",
    "#evcChg.plot.bar(figsize=(10,5), width=0.7)\n",
    "#plt.title('% Changes of Visitation from Home')\n",
    "#plt.ylabel('Percentage')\n",
    "#plt.xticks(rotation=0)\n",
    "#plt.gca().yaxis.set_major_formatter(mtick.PercentFormatter(1))"
   ]
  },
  {
   "cell_type": "code",
   "execution_count": 37,
   "metadata": {},
   "outputs": [],
   "source": [
    "# the detailed categories\n",
    "#_, evcPct19_ = get_evc_pct_pivot_table(trip2019, 'estimated_visitor_count', 'category')\n",
    "#_, evcPct20_ = get_evc_pct_pivot_table(trip2020, 'estimated_visitor_count', 'category')\n",
    "#evcChg_ = evcPct20_ - evcPct19_\n",
    "#evcChg_.plot.bar()"
   ]
  },
  {
   "cell_type": "markdown",
   "metadata": {},
   "source": [
    "### Time-series /Cluster /Category"
   ]
  },
  {
   "cell_type": "code",
   "execution_count": 38,
   "metadata": {},
   "outputs": [
    {
     "data": {
      "text/html": [
       "<div>\n",
       "<style scoped>\n",
       "    .dataframe tbody tr th:only-of-type {\n",
       "        vertical-align: middle;\n",
       "    }\n",
       "\n",
       "    .dataframe tbody tr th {\n",
       "        vertical-align: top;\n",
       "    }\n",
       "\n",
       "    .dataframe thead tr th {\n",
       "        text-align: left;\n",
       "    }\n",
       "</style>\n",
       "<table border=\"1\" class=\"dataframe\">\n",
       "  <thead>\n",
       "    <tr>\n",
       "      <th>combined_category</th>\n",
       "      <th colspan=\"4\" halign=\"left\">Delis and Convenience Stores</th>\n",
       "      <th colspan=\"4\" halign=\"left\">Fast Food Restaurants</th>\n",
       "      <th colspan=\"2\" halign=\"left\">Full-Service Restaurants</th>\n",
       "      <th>...</th>\n",
       "      <th colspan=\"2\" halign=\"left\">Other Food Service</th>\n",
       "      <th colspan=\"4\" halign=\"left\">Pharmacies and Drug Stores</th>\n",
       "      <th colspan=\"4\" halign=\"left\">Supermarkets and Grocery Stores</th>\n",
       "    </tr>\n",
       "    <tr>\n",
       "      <th>Cluster</th>\n",
       "      <th>0</th>\n",
       "      <th>1</th>\n",
       "      <th>2</th>\n",
       "      <th>3</th>\n",
       "      <th>0</th>\n",
       "      <th>1</th>\n",
       "      <th>2</th>\n",
       "      <th>3</th>\n",
       "      <th>0</th>\n",
       "      <th>1</th>\n",
       "      <th>...</th>\n",
       "      <th>2</th>\n",
       "      <th>3</th>\n",
       "      <th>0</th>\n",
       "      <th>1</th>\n",
       "      <th>2</th>\n",
       "      <th>3</th>\n",
       "      <th>0</th>\n",
       "      <th>1</th>\n",
       "      <th>2</th>\n",
       "      <th>3</th>\n",
       "    </tr>\n",
       "  </thead>\n",
       "  <tbody>\n",
       "    <tr>\n",
       "      <th>0</th>\n",
       "      <td>0.042307</td>\n",
       "      <td>0.029221</td>\n",
       "      <td>0.047820</td>\n",
       "      <td>0.035778</td>\n",
       "      <td>0.148557</td>\n",
       "      <td>0.106472</td>\n",
       "      <td>0.130044</td>\n",
       "      <td>0.118265</td>\n",
       "      <td>0.353329</td>\n",
       "      <td>0.366027</td>\n",
       "      <td>...</td>\n",
       "      <td>0.137359</td>\n",
       "      <td>0.157013</td>\n",
       "      <td>0.064123</td>\n",
       "      <td>0.038822</td>\n",
       "      <td>0.070107</td>\n",
       "      <td>0.058171</td>\n",
       "      <td>0.066658</td>\n",
       "      <td>0.038063</td>\n",
       "      <td>0.067920</td>\n",
       "      <td>0.059372</td>\n",
       "    </tr>\n",
       "    <tr>\n",
       "      <th>1</th>\n",
       "      <td>0.041797</td>\n",
       "      <td>0.029155</td>\n",
       "      <td>0.048347</td>\n",
       "      <td>0.035909</td>\n",
       "      <td>0.148583</td>\n",
       "      <td>0.107119</td>\n",
       "      <td>0.128919</td>\n",
       "      <td>0.118371</td>\n",
       "      <td>0.352609</td>\n",
       "      <td>0.365799</td>\n",
       "      <td>...</td>\n",
       "      <td>0.137269</td>\n",
       "      <td>0.156868</td>\n",
       "      <td>0.064668</td>\n",
       "      <td>0.038125</td>\n",
       "      <td>0.071377</td>\n",
       "      <td>0.058018</td>\n",
       "      <td>0.066353</td>\n",
       "      <td>0.038366</td>\n",
       "      <td>0.068213</td>\n",
       "      <td>0.059724</td>\n",
       "    </tr>\n",
       "    <tr>\n",
       "      <th>2</th>\n",
       "      <td>0.041623</td>\n",
       "      <td>0.029593</td>\n",
       "      <td>0.048713</td>\n",
       "      <td>0.036090</td>\n",
       "      <td>0.148210</td>\n",
       "      <td>0.107656</td>\n",
       "      <td>0.129287</td>\n",
       "      <td>0.117726</td>\n",
       "      <td>0.352511</td>\n",
       "      <td>0.366345</td>\n",
       "      <td>...</td>\n",
       "      <td>0.136564</td>\n",
       "      <td>0.155158</td>\n",
       "      <td>0.065301</td>\n",
       "      <td>0.038616</td>\n",
       "      <td>0.070920</td>\n",
       "      <td>0.057792</td>\n",
       "      <td>0.067243</td>\n",
       "      <td>0.039177</td>\n",
       "      <td>0.069390</td>\n",
       "      <td>0.060078</td>\n",
       "    </tr>\n",
       "  </tbody>\n",
       "</table>\n",
       "<p>3 rows × 32 columns</p>\n",
       "</div>"
      ],
      "text/plain": [
       "combined_category Delis and Convenience Stores                                \\\n",
       "Cluster                                      0         1         2         3   \n",
       "0                                     0.042307  0.029221  0.047820  0.035778   \n",
       "1                                     0.041797  0.029155  0.048347  0.035909   \n",
       "2                                     0.041623  0.029593  0.048713  0.036090   \n",
       "\n",
       "combined_category Fast Food Restaurants                                \\\n",
       "Cluster                               0         1         2         3   \n",
       "0                              0.148557  0.106472  0.130044  0.118265   \n",
       "1                              0.148583  0.107119  0.128919  0.118371   \n",
       "2                              0.148210  0.107656  0.129287  0.117726   \n",
       "\n",
       "combined_category Full-Service Restaurants            ... Other Food Service  \\\n",
       "Cluster                                  0         1  ...                  2   \n",
       "0                                 0.353329  0.366027  ...           0.137359   \n",
       "1                                 0.352609  0.365799  ...           0.137269   \n",
       "2                                 0.352511  0.366345  ...           0.136564   \n",
       "\n",
       "combined_category           Pharmacies and Drug Stores                      \\\n",
       "Cluster                   3                          0         1         2   \n",
       "0                  0.157013                   0.064123  0.038822  0.070107   \n",
       "1                  0.156868                   0.064668  0.038125  0.071377   \n",
       "2                  0.155158                   0.065301  0.038616  0.070920   \n",
       "\n",
       "combined_category           Supermarkets and Grocery Stores            \\\n",
       "Cluster                   3                               0         1   \n",
       "0                  0.058171                        0.066658  0.038063   \n",
       "1                  0.058018                        0.066353  0.038366   \n",
       "2                  0.057792                        0.067243  0.039177   \n",
       "\n",
       "combined_category                      \n",
       "Cluster                   2         3  \n",
       "0                  0.067920  0.059372  \n",
       "1                  0.068213  0.059724  \n",
       "2                  0.069390  0.060078  \n",
       "\n",
       "[3 rows x 32 columns]"
      ]
     },
     "metadata": {},
     "output_type": "display_data"
    },
    {
     "name": "stdout",
     "output_type": "stream",
     "text": [
      "36\n"
     ]
    }
   ],
   "source": [
    "tp19 = trip2019[['date_range_start', 'estimated_visitor_count', 'combined_category', 'Cluster']]\n",
    "\n",
    "tp19 = tp19.groupby(['combined_category', 'Cluster', 'date_range_start'], as_index=False).agg({'estimated_visitor_count': 'sum'})\n",
    "tp19_total = tp19.groupby(['Cluster', 'date_range_start'], as_index=False).agg({'estimated_visitor_count': 'sum'})\n",
    "tp19_total = tp19_total.rename(columns={'estimated_visitor_count': 'estimated_visitor_total'})\n",
    "tp19 = tp19.merge(tp19_total, on=['Cluster', 'date_range_start'], how='inner')\n",
    "tp19['proportion'] = tp19['estimated_visitor_count'] / tp19['estimated_visitor_total']\n",
    "tp19 = pd.pivot_table(tp19, values='proportion', index=['date_range_start'], columns=['combined_category', 'Cluster'])\n",
    "tp19 = tp19.sort_values(by=['date_range_start'])\n",
    "tp19[tp19.columns] = tp19[tp19.columns].rolling(3, center=True).mean()\n",
    "tp19 = tp19[(tp19.index >= DATE_START_PRE_COVID) & (tp19.index <= DATE_END_PRE_COVID)]\n",
    "tp19 = tp19.reset_index(drop=True)\n",
    "peek(tp19)"
   ]
  },
  {
   "cell_type": "code",
   "execution_count": 42,
   "metadata": {},
   "outputs": [
    {
     "data": {
      "text/html": [
       "<div>\n",
       "<style scoped>\n",
       "    .dataframe tbody tr th:only-of-type {\n",
       "        vertical-align: middle;\n",
       "    }\n",
       "\n",
       "    .dataframe tbody tr th {\n",
       "        vertical-align: top;\n",
       "    }\n",
       "\n",
       "    .dataframe thead tr th {\n",
       "        text-align: left;\n",
       "    }\n",
       "</style>\n",
       "<table border=\"1\" class=\"dataframe\">\n",
       "  <thead>\n",
       "    <tr>\n",
       "      <th>combined_category</th>\n",
       "      <th colspan=\"4\" halign=\"left\">Delis and Convenience Stores</th>\n",
       "      <th colspan=\"4\" halign=\"left\">Fast Food Restaurants</th>\n",
       "      <th colspan=\"2\" halign=\"left\">Full-Service Restaurants</th>\n",
       "      <th>...</th>\n",
       "      <th colspan=\"2\" halign=\"left\">Other Food Service</th>\n",
       "      <th colspan=\"4\" halign=\"left\">Pharmacies and Drug Stores</th>\n",
       "      <th colspan=\"4\" halign=\"left\">Supermarkets and Grocery Stores</th>\n",
       "    </tr>\n",
       "    <tr>\n",
       "      <th>Cluster</th>\n",
       "      <th>0</th>\n",
       "      <th>1</th>\n",
       "      <th>2</th>\n",
       "      <th>3</th>\n",
       "      <th>0</th>\n",
       "      <th>1</th>\n",
       "      <th>2</th>\n",
       "      <th>3</th>\n",
       "      <th>0</th>\n",
       "      <th>1</th>\n",
       "      <th>...</th>\n",
       "      <th>2</th>\n",
       "      <th>3</th>\n",
       "      <th>0</th>\n",
       "      <th>1</th>\n",
       "      <th>2</th>\n",
       "      <th>3</th>\n",
       "      <th>0</th>\n",
       "      <th>1</th>\n",
       "      <th>2</th>\n",
       "      <th>3</th>\n",
       "    </tr>\n",
       "  </thead>\n",
       "  <tbody>\n",
       "    <tr>\n",
       "      <th>0</th>\n",
       "      <td>0.043351</td>\n",
       "      <td>0.036130</td>\n",
       "      <td>0.050264</td>\n",
       "      <td>0.041960</td>\n",
       "      <td>0.147515</td>\n",
       "      <td>0.105739</td>\n",
       "      <td>0.125478</td>\n",
       "      <td>0.114001</td>\n",
       "      <td>0.314853</td>\n",
       "      <td>0.328390</td>\n",
       "      <td>...</td>\n",
       "      <td>0.106178</td>\n",
       "      <td>0.119207</td>\n",
       "      <td>0.085564</td>\n",
       "      <td>0.064737</td>\n",
       "      <td>0.085165</td>\n",
       "      <td>0.082725</td>\n",
       "      <td>0.116150</td>\n",
       "      <td>0.100937</td>\n",
       "      <td>0.115658</td>\n",
       "      <td>0.118980</td>\n",
       "    </tr>\n",
       "    <tr>\n",
       "      <th>1</th>\n",
       "      <td>0.043689</td>\n",
       "      <td>0.036182</td>\n",
       "      <td>0.050643</td>\n",
       "      <td>0.042753</td>\n",
       "      <td>0.154357</td>\n",
       "      <td>0.107972</td>\n",
       "      <td>0.128031</td>\n",
       "      <td>0.119046</td>\n",
       "      <td>0.314331</td>\n",
       "      <td>0.327154</td>\n",
       "      <td>...</td>\n",
       "      <td>0.100547</td>\n",
       "      <td>0.114731</td>\n",
       "      <td>0.086458</td>\n",
       "      <td>0.064691</td>\n",
       "      <td>0.085438</td>\n",
       "      <td>0.084880</td>\n",
       "      <td>0.116551</td>\n",
       "      <td>0.104704</td>\n",
       "      <td>0.120170</td>\n",
       "      <td>0.124121</td>\n",
       "    </tr>\n",
       "    <tr>\n",
       "      <th>2</th>\n",
       "      <td>0.044248</td>\n",
       "      <td>0.035952</td>\n",
       "      <td>0.049239</td>\n",
       "      <td>0.042771</td>\n",
       "      <td>0.159502</td>\n",
       "      <td>0.110838</td>\n",
       "      <td>0.130467</td>\n",
       "      <td>0.123452</td>\n",
       "      <td>0.311244</td>\n",
       "      <td>0.323356</td>\n",
       "      <td>...</td>\n",
       "      <td>0.099096</td>\n",
       "      <td>0.110685</td>\n",
       "      <td>0.086983</td>\n",
       "      <td>0.065620</td>\n",
       "      <td>0.086214</td>\n",
       "      <td>0.084629</td>\n",
       "      <td>0.117529</td>\n",
       "      <td>0.107098</td>\n",
       "      <td>0.121349</td>\n",
       "      <td>0.124588</td>\n",
       "    </tr>\n",
       "  </tbody>\n",
       "</table>\n",
       "<p>3 rows × 32 columns</p>\n",
       "</div>"
      ],
      "text/plain": [
       "combined_category Delis and Convenience Stores                                \\\n",
       "Cluster                                      0         1         2         3   \n",
       "0                                     0.043351  0.036130  0.050264  0.041960   \n",
       "1                                     0.043689  0.036182  0.050643  0.042753   \n",
       "2                                     0.044248  0.035952  0.049239  0.042771   \n",
       "\n",
       "combined_category Fast Food Restaurants                                \\\n",
       "Cluster                               0         1         2         3   \n",
       "0                              0.147515  0.105739  0.125478  0.114001   \n",
       "1                              0.154357  0.107972  0.128031  0.119046   \n",
       "2                              0.159502  0.110838  0.130467  0.123452   \n",
       "\n",
       "combined_category Full-Service Restaurants            ... Other Food Service  \\\n",
       "Cluster                                  0         1  ...                  2   \n",
       "0                                 0.314853  0.328390  ...           0.106178   \n",
       "1                                 0.314331  0.327154  ...           0.100547   \n",
       "2                                 0.311244  0.323356  ...           0.099096   \n",
       "\n",
       "combined_category           Pharmacies and Drug Stores                      \\\n",
       "Cluster                   3                          0         1         2   \n",
       "0                  0.119207                   0.085564  0.064737  0.085165   \n",
       "1                  0.114731                   0.086458  0.064691  0.085438   \n",
       "2                  0.110685                   0.086983  0.065620  0.086214   \n",
       "\n",
       "combined_category           Supermarkets and Grocery Stores            \\\n",
       "Cluster                   3                               0         1   \n",
       "0                  0.082725                        0.116150  0.100937   \n",
       "1                  0.084880                        0.116551  0.104704   \n",
       "2                  0.084629                        0.117529  0.107098   \n",
       "\n",
       "combined_category                      \n",
       "Cluster                   2         3  \n",
       "0                  0.115658  0.118980  \n",
       "1                  0.120170  0.124121  \n",
       "2                  0.121349  0.124588  \n",
       "\n",
       "[3 rows x 32 columns]"
      ]
     },
     "metadata": {},
     "output_type": "display_data"
    },
    {
     "name": "stdout",
     "output_type": "stream",
     "text": [
      "36\n"
     ]
    }
   ],
   "source": [
    "tp20 = trip2020[['date_range_start', 'estimated_visitor_count', 'combined_category', 'Cluster']]\n",
    "\n",
    "tp20 = tp20.groupby(['combined_category', 'Cluster', 'date_range_start'], as_index=False).agg({'estimated_visitor_count': 'sum'})\n",
    "tp20_total = tp20.groupby(['Cluster', 'date_range_start'], as_index=False).agg({'estimated_visitor_count': 'sum'})\n",
    "tp20_total = tp20_total.rename(columns={'estimated_visitor_count': 'estimated_visitor_total'})\n",
    "tp20 = tp20.merge(tp20_total, on=['Cluster', 'date_range_start'], how='inner')\n",
    "tp20['proportion'] = tp20['estimated_visitor_count'] / tp20['estimated_visitor_total']\n",
    "tp20 = pd.pivot_table(tp20, values='proportion', index=['date_range_start'], columns=['combined_category', 'Cluster'])\n",
    "tp20 = tp20.sort_values(by=['date_range_start'])\n",
    "tp20[tp20.columns] = tp20[tp20.columns].rolling(3, center=True).mean()\n",
    "tp20 = tp20[(tp20.index >= DATE_START_COVID) & (tp20.index <= DATE_END_COVID)]\n",
    "tp20 = tp20.reset_index(drop=True)\n",
    "peek(tp20)"
   ]
  },
  {
   "cell_type": "code",
   "execution_count": 73,
   "metadata": {},
   "outputs": [
    {
     "data": {
      "image/png": "[encoded data removed]",
      "text/plain": [
       "<Figure size 1152x864 with 12 Axes>"
      ]
     },
     "metadata": {
      "needs_background": "light"
     },
     "output_type": "display_data"
    }
   ],
   "source": [
    "plot_categories = [\n",
    "    tp20.columns.levels[0][7],\n",
    "    tp20.columns.levels[0][0],\n",
    "    tp20.columns.levels[0][1],\n",
    "]\n",
    "\n",
    "category_names = ['Supermarkets', 'Delis', 'Fast-Food']\n",
    "\n",
    "pcolors = [\n",
    "    ('#225522', '#ccddaa'),\n",
    "    ('#997700', '#ddcc77'),\n",
    "    ('#663333', '#ffcccc'),\n",
    "]\n",
    "\n",
    "s = 4\n",
    "fig, ax = plt.subplots(len(plot_categories), 4, figsize=(s * 4, s * len(plot_categories)))\n",
    "\n",
    "    #fig.suptitle('Visitation for %s ' % category,\n",
    "    #             fontsize=16,\n",
    "    #             verticalalignment='top')\n",
    "for i, category in enumerate(plot_categories):\n",
    "\n",
    "    min_y = 1\n",
    "    max_y = 0\n",
    "\n",
    "    for cl in range(4):\n",
    "        tp20[(category, cl)].plot(ax=ax[i, cl], label='Mar. - Nov. 2020', legend=(i==0 and cl==0), color=pcolors[i][0], linewidth=3, zorder=3)\n",
    "        tp19[(category, cl)].plot(ax=ax[i, cl], label='Mar. - Nov. 2019', legend=(i==0 and cl==0), color=pcolors[i][1], linewidth=3, zorder=2)\n",
    "        ax[i, cl].set_title(f'{category_names[i]}: Cluster {cl}', fontsize=FONT_SIZE_TITLE)\n",
    "        min_y = min(min_y, ax[i, cl].get_ylim()[0])\n",
    "        max_y = max(max_y, ax[i, cl].get_ylim()[1])\n",
    "\n",
    "        ax[i, cl].grid(color='#bdbdbd', alpha=0.6, zorder=1)\n",
    "\n",
    "    for cl in range(4):\n",
    "        ax[i, cl].set_xlim([0, len(tp20) - 1])\n",
    "        if i == 2:\n",
    "            ax[i, cl].set_xlabel('Weeks Since Stay-at-Home Order', fontsize=FONT_SIZE_AXIS)\n",
    "        ax[i, cl].set_ylim([min_y, max_y])\n",
    "        ax[i, cl].tick_params(axis='x', labelsize=FONT_SIZE_TICKS)\n",
    "        ax[i, cl].tick_params(axis='y', labelsize=FONT_SIZE_TICKS)\n",
    "        ax[i, cl].yaxis.set_major_formatter(mtick.PercentFormatter(1.0, decimals=(1 if i == 1 else 0)))\n",
    "        ax[i, 0].set_ylabel('Visitation Proportion', fontsize=FONT_SIZE_AXIS)\n",
    "        \n",
    "    ax[i, 0].legend(fontsize=FONT_SIZE_LEGEND, loc='lower left')\n",
    "\n",
    "plt.tight_layout()\n",
    "plt.show()"
   ]
  },
  {
   "cell_type": "code",
   "execution_count": null,
   "metadata": {},
   "outputs": [],
   "source": [
    "# get category % of each cluser each day\n",
    "tp20pct = tp20.copy()\n",
    "for c in range(4):\n",
    "    total_each_week = tp20pct[list(tp20pct.columns[c+4*i] for i in range(7))].sum(axis=1)\n",
    "    for k in range(7):\n",
    "        tp20pct[tp20pct.columns[c+4*k]] = tp20pct[tp20pct.columns[c+4*k]] / total_each_week\n",
    "tp20pct.head()"
   ]
  },
  {
   "cell_type": "code",
   "execution_count": null,
   "metadata": {},
   "outputs": [],
   "source": [
    "# get category % of each cluser each day\n",
    "tp19pct = tp19.copy()\n",
    "for c in range(4):\n",
    "    total_each_week = tp19pct[list(tp19pct.columns[c+4*i] for i in range(7))].sum(axis=1)\n",
    "    for k in range(7):\n",
    "        tp19pct[tp19pct.columns[c+4*k]] = tp19pct[tp19pct.columns[c+4*k]] / total_each_week\n",
    "tp19pct.head()"
   ]
  },
  {
   "cell_type": "code",
   "execution_count": null,
   "metadata": {},
   "outputs": [],
   "source": [
    "# COLORS = ['#57068c', '#e0b6fc', '#825', '#173', '#dc7', '#4a9', '#c67', '#993', '#a49']\n",
    "for n, i in enumerate(tp20pct.columns):\n",
    "    if (n-1)//4 != n//4:\n",
    "        fig, axes = plt.subplots(1,4,figsize=(20,4.5))\n",
    "        fig.suptitle('%% Visitation for %s ' % i[0], fontsize=16, verticalalignment='top')\n",
    "        ax = axes.ravel()\n",
    "    cl = n%4\n",
    "    tp20pct[i].rolling(3, center=True).mean().plot(ax=ax[cl], label='2020', legend=True)\n",
    "    tp19pct[i].rolling(3, center=True).mean().plot(ax=ax[cl], label='2019', legend=True)\n",
    "    ax[cl].set(xlabel=None)\n",
    "    ax[cl].set_title('Cluster %d' % cl, fontdict={'fontsize': 13})\n",
    "    ax[cl].yaxis.set_major_formatter(mtick.PercentFormatter(1.0, 1))"
   ]
  },
  {
   "cell_type": "code",
   "execution_count": null,
   "metadata": {},
   "outputs": [],
   "source": [
    "for n, i in enumerate(tp20pct.columns):\n",
    "    if (n-1)//4 != n//4:\n",
    "        fig, ax = plt.subplots(figsize=(4,4))\n",
    "#         fig.suptitle('Visitation for %s ' % i[0], fontsize=14, verticalalignment='top')\n",
    "    cl = n%4\n",
    "    tp20pct[i].rolling(6, center=True).mean().plot(ax=ax, label=cl, legend=True) #, color=COLORS[cl]\n",
    "    ax.set(xlabel=None, ylabel='% visitation per week')\n",
    "    ax.set_title(\"%% Visitation (2020) for %s \" % i[0], fontdict={'fontsize': 13})\n",
    "    ax.yaxis.set_major_formatter(mtick.PercentFormatter(1.0))"
   ]
  },
  {
   "cell_type": "code",
   "execution_count": null,
   "metadata": {},
   "outputs": [],
   "source": []
  }
 ],
 "metadata": {
  "kernelspec": {
   "display_name": "Python 3",
   "language": "python",
   "name": "python3"
  },
  "language_info": {
   "codemirror_mode": {
    "name": "ipython",
    "version": 3
   },
   "file_extension": ".py",
   "mimetype": "text/x-python",
   "name": "python",
   "nbconvert_exporter": "python",
   "pygments_lexer": "ipython3",
   "version": "3.7.6"
  }
 },
 "nbformat": 4,
 "nbformat_minor": 4
}
